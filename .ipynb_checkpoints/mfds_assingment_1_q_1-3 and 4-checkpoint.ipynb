{
 "cells": [
  {
   "cell_type": "code",
   "execution_count": 412,
   "id": "d0a71c7d",
   "metadata": {},
   "outputs": [],
   "source": [
    "#all the imports here\n",
    "import math\n",
    "import random\n",
    "from copy import deepcopy\n",
    "import time\n",
    "from matplotlib import pyplot as plt\n",
    "inital_time=time.process_time();\n",
    "total_sum=0\n",
    "for x in range(10**6):\n",
    "    total_sum=total_sum+x;\n",
    "add_time=(time.process_time()-inital_time)\n",
    "inital_time=time.process_time();\n",
    "num1=2340000\n",
    "num2=3230000\n",
    "y=0\n",
    "for x in range(1,10**6):\n",
    "    y=num2/num1;\n",
    "div_time = (time.process_time()-inital_time)\n",
    "inital_time=time.process_time();\n",
    "num1=230\n",
    "num2=344\n",
    "y=0\n",
    "for x in range(1,10**6):\n",
    "    y=num2*num1;\n",
    "mul_time = (time.process_time()-inital_time)"
   ]
  },
  {
   "cell_type": "code",
   "execution_count": 413,
   "id": "a1aff93f",
   "metadata": {},
   "outputs": [],
   "source": [
    "# random number generator function\n",
    "def customRandomNumber(a,b,t):\n",
    "    if(t==\"rank\"):\n",
    "        return random.randrange(a,b)\n",
    "    if(a==0 and b==0):\n",
    "        return random.random()\n",
    "    else:\n",
    "#                 return random.randrange(a,b)\n",
    "        return random.uniform(a,b)\n",
    "\n"
   ]
  },
  {
   "cell_type": "code",
   "execution_count": 414,
   "id": "403d5648",
   "metadata": {},
   "outputs": [],
   "source": [
    "def roundto_d_significant(value, sig_digits):\n",
    "    if value == 0:\n",
    "        return 0\n",
    "    else:\n",
    "        return round(value, sig_digits - int(math.floor(math.log10(abs(value)))) - 1)"
   ]
  },
  {
   "cell_type": "code",
   "execution_count": 415,
   "id": "12fce11f",
   "metadata": {},
   "outputs": [],
   "source": [
    "# generate random matrix\n",
    "def randomMatrix(matrixROW,elementRangeStart,elementRangeEnd,sig_digits):\n",
    "    matrix=[[ 0 for x in range(matrixROW)] for y in range(matrixROW)]\n",
    "    for x in range(matrixROW): \n",
    "             for y in range(matrixROW): \n",
    "                 matrix[x][y] = roundto_d_significant(customRandomNumber(elementRangeStart,elementRangeEnd,''),sig_digits)\n",
    "    return matrix\n",
    "\n"
   ]
  },
  {
   "cell_type": "code",
   "execution_count": 416,
   "id": "e79f557e",
   "metadata": {},
   "outputs": [],
   "source": [
    "#Ax=C\n",
    "def C_Matrix(matrixROW,elementRangeStart,elementRangeEnd,sig_digits):\n",
    "    matrix=[[0 for x in range(1)]  for y in range(matrixROW) ]\n",
    "    for y in range(matrixROW): \n",
    "        matrix[y][0] = roundto_d_significant(customRandomNumber(elementRangeStart,elementRangeEnd,''),sig_digits)\n",
    "    return matrix\n",
    "  "
   ]
  },
  {
   "cell_type": "code",
   "execution_count": 417,
   "id": "2ba7736b",
   "metadata": {
    "scrolled": true
   },
   "outputs": [],
   "source": [
    "# without pivioitng\n",
    "def forwardElimination(mat,C_matrix,sig_digits,matrixROW,isPivot):\n",
    "    # Create augmented matrix\n",
    "    add=0;\n",
    "    multiply=0;\n",
    "    divide=0;\n",
    "    for i in range(len(mat)):\n",
    "        mat[i].append(mat[i][0])\n",
    "\n",
    "\n",
    "    \n",
    "    # start elimination forward style\n",
    "    for totalLoops in range(matrixROW-1):  # for pivot element\n",
    "        if(isPivot==\"true\"):\n",
    "            currentMax=mat[totalLoops][totalLoops]\n",
    "            j=totalLoops;\n",
    "            for row in range(len(mat)):\n",
    "                if(abs(currentMax)<abs(mat[row][totalLoops]) and row>totalLoops):\n",
    "                    currentMax=mat[row][totalLoops]\n",
    "                    j=row\n",
    "            if(j!=totalLoops):\n",
    "                temp=mat[totalLoops]\n",
    "                mat[totalLoops]=mat[j]\n",
    "                mat[j]=temp\n",
    "        for row in range(len(mat)):\n",
    "            if(mat[row][totalLoops]==0):\n",
    "                pass\n",
    "            else:\n",
    "                newCol=mat[row][totalLoops]\n",
    "                if(row>totalLoops):\n",
    "                    divide=divide+1;\n",
    "\n",
    "                for coloumn in range(len(mat[row])):\n",
    "                    if(row<=totalLoops or mat[totalLoops][totalLoops] ==0):\n",
    "                        continue\n",
    "                    else:\n",
    "                        mat[row][coloumn]=roundto_d_significant((mat[row][coloumn]-(newCol * (mat[totalLoops][coloumn]/mat[totalLoops][totalLoops]))) ,sig_digits)\n",
    "                        add=add+1;\n",
    "                        multiply=multiply+1;\n",
    "                             \n",
    "\n",
    "    \n",
    "    return [mat,add,multiply,divide] #Auguemented resultant from forward matrix\n",
    "\n",
    "    "
   ]
  },
  {
   "cell_type": "code",
   "execution_count": 418,
   "id": "eda56e83",
   "metadata": {},
   "outputs": [],
   "source": [
    "def backWardElimination(matrix,C_matrix,sig_digits,matrixROW):\n",
    "    b=[[0 for x in range(1)]  for y in range(matrixROW) ];\n",
    "    add_Count=0;\n",
    "    multiply=0;\n",
    "    divide=0;\n",
    "    length_of_column=len(matrix[0])\n",
    "    for x in reversed(range(matrixROW)):\n",
    "        a=0;\n",
    "        for j in reversed(range(length_of_column)):\n",
    "            if(length_of_column-1==j):\n",
    "                a=roundto_d_significant(matrix[x][j],sig_digits)\n",
    "            elif(x==j):\n",
    "                a=roundto_d_significant(a/matrix[x][j],sig_digits)\n",
    "                divide=divide+1\n",
    "            elif(j<matrixROW and j>=x):\n",
    "                 a = roundto_d_significant(a - matrix[x][j]*b[j][0],sig_digits) \n",
    "                 add_Count=add_Count+1\n",
    "                 multiply=multiply+1\n",
    "        b[x][0]=a\n",
    "\n",
    "    return [add_Count,multiply,divide]\n",
    "    \n",
    "                \n",
    "            "
   ]
  },
  {
   "cell_type": "code",
   "execution_count": 431,
   "id": "0dfb0b42",
   "metadata": {},
   "outputs": [],
   "source": [
    "def  gausianElimination(rowRangeStart,rowRangeEnd,elementRangeStart,elementRangeEnd,sig_digits,t):\n",
    "        matrixROW=t\n",
    "        if(t>0):\n",
    "            matrixRow=t\n",
    "        else:\n",
    "            matrixROW =customRandomNumber(rowRangeStart,rowRangeEnd,'rank')\n",
    "        matr = randomMatrix(matrixROW,elementRangeStart,elementRangeEnd,sig_digits)\n",
    "        Cmatrix = C_Matrix(matrixROW,elementRangeStart,elementRangeEnd,sig_digits)\n",
    "        new_matrix=deepcopy(matr)\n",
    "        #without pivot\n",
    "        withPivotMatrix = forwardElimination(matr,Cmatrix,sig_digits,matrixROW,\"false\");\n",
    "        solutionmatrixwithpivot=backWardElimination(withPivotMatrix[0],Cmatrix,sig_digits,matrixROW)\n",
    "        #         withPivotMatrix = forwardElimination(new_matrix,Cmatrix,sig_digits,matrixROW,\"true\");\n",
    "\n",
    "        return [withPivotMatrix[1]+solutionmatrixwithpivot[0],\n",
    "               withPivotMatrix[2]+solutionmatrixwithpivot[1],\n",
    "               withPivotMatrix[3]+solutionmatrixwithpivot[2]]"
   ]
  },
  {
   "cell_type": "code",
   "execution_count": null,
   "id": "cce64bce",
   "metadata": {},
   "outputs": [],
   "source": []
  },
  {
   "cell_type": "code",
   "execution_count": 432,
   "id": "74529e03",
   "metadata": {},
   "outputs": [],
   "source": [
    "matrix_time=[[ 1 for j in range(2)] for y in range(10)]\n",
    "time_mat=[0 for y in range(10)]\n",
    "n_mat=[0 for y in range(10)]\n",
    "def rankOfMatrix():\n",
    "    print(matrix_time)\n",
    "    for x in range(100,1100,100):\n",
    "        i=0\n",
    "        real_time=time.process_time();\n",
    "        m=gausianElimination(3,4,-9,9,5,x)\n",
    "        actual_time=time.process_time()-real_time;\n",
    "        z=[(x**2+x)/2, (2*(x**3)+3*(x**2)-5*x)/6]\n",
    "        print(\"for matrix for \",x,m,z)\n",
    "        matrix_time[i][0]=(z[1]*add_time+z[1]*mul_time+z[0]*div_time)/10**6\n",
    "        matrix_time[i][1]=actual_time\n",
    "        print(\"practicle_time\",matrix_time[i][0])\n",
    "        print(\"real_time\",actual_time)\n",
    "        time_mat[i]=math.log10(actual_time)\n",
    "        n_mat[i]=math.log10(x)\n",
    "        i=i+1;\n",
    "    plt.title(\"With Pivot\") \n",
    "    plt.xlabel(\"log(n)\") \n",
    "    plt.ylabel(\"log(Tn)\") \n",
    "    plt.plot(time_mat,n_mat) \n",
    "    plt.show()\n",
    "    \n",
    "\n",
    "    \n"
   ]
  },
  {
   "cell_type": "code",
   "execution_count": null,
   "id": "dc9cbc4e",
   "metadata": {},
   "outputs": [
    {
     "name": "stdout",
     "output_type": "stream",
     "text": [
      "[[1, 1], [1, 1], [1, 1], [1, 1], [1, 1], [1, 1], [1, 1], [1, 1], [1, 1], [1, 1]]\n",
      "for matrix for  100 [504900, 504900, 5050] [5050.0, 338250.0]\n",
      "practicle_time 0.0702158829499261\n",
      "real_time 0.5022509999998874\n",
      "for matrix for  200 [4019800, 4019800, 20100] [20100.0, 2686500.0]\n",
      "practicle_time 0.5558621558994078\n",
      "real_time 3.7896209999998973\n",
      "for matrix for  300 [13544700, 13544700, 45150] [45150.0, 9044750.0]\n",
      "practicle_time 1.8693988188480006\n",
      "real_time 11.460109999999986\n"
     ]
    }
   ],
   "source": [
    "rankOfMatrix()"
   ]
  },
  {
   "cell_type": "code",
   "execution_count": null,
   "id": "288f6085",
   "metadata": {},
   "outputs": [],
   "source": []
  },
  {
   "cell_type": "code",
   "execution_count": null,
   "id": "5b2f2198",
   "metadata": {},
   "outputs": [],
   "source": []
  },
  {
   "cell_type": "code",
   "execution_count": null,
   "id": "ecb45339",
   "metadata": {},
   "outputs": [],
   "source": []
  },
  {
   "cell_type": "code",
   "execution_count": null,
   "id": "5c8a7f05",
   "metadata": {},
   "outputs": [],
   "source": []
  },
  {
   "cell_type": "code",
   "execution_count": null,
   "id": "139e300d",
   "metadata": {},
   "outputs": [],
   "source": []
  },
  {
   "cell_type": "code",
   "execution_count": null,
   "id": "254012b2",
   "metadata": {},
   "outputs": [],
   "source": []
  },
  {
   "cell_type": "code",
   "execution_count": null,
   "id": "5504ec60",
   "metadata": {},
   "outputs": [],
   "source": []
  },
  {
   "cell_type": "code",
   "execution_count": null,
   "id": "19d453d9",
   "metadata": {},
   "outputs": [],
   "source": []
  },
  {
   "cell_type": "code",
   "execution_count": null,
   "id": "0417b2ea",
   "metadata": {},
   "outputs": [],
   "source": []
  },
  {
   "cell_type": "code",
   "execution_count": null,
   "id": "fdacf98b",
   "metadata": {},
   "outputs": [],
   "source": []
  },
  {
   "cell_type": "code",
   "execution_count": null,
   "id": "f15697b0",
   "metadata": {},
   "outputs": [],
   "source": []
  },
  {
   "cell_type": "code",
   "execution_count": null,
   "id": "a986098d",
   "metadata": {},
   "outputs": [],
   "source": []
  }
 ],
 "metadata": {
  "kernelspec": {
   "display_name": "Python 3 (ipykernel)",
   "language": "python",
   "name": "python3"
  },
  "language_info": {
   "codemirror_mode": {
    "name": "ipython",
    "version": 3
   },
   "file_extension": ".py",
   "mimetype": "text/x-python",
   "name": "python",
   "nbconvert_exporter": "python",
   "pygments_lexer": "ipython3",
   "version": "3.9.7"
  }
 },
 "nbformat": 4,
 "nbformat_minor": 5
}
