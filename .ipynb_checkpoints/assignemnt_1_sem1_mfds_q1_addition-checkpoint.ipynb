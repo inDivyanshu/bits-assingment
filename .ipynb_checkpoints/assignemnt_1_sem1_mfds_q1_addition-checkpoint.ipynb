{
 "cells": [
  {
   "cell_type": "code",
   "execution_count": 5,
   "id": "532c3bee",
   "metadata": {},
   "outputs": [],
   "source": [
    "#time it takes to add the  first 10^6 inetegers (positve only)"
   ]
  },
  {
   "cell_type": "code",
   "execution_count": 13,
   "id": "eb2ce02f",
   "metadata": {},
   "outputs": [],
   "source": [
    "import time"
   ]
  },
  {
   "cell_type": "code",
   "execution_count": 14,
   "id": "93e921b8",
   "metadata": {},
   "outputs": [],
   "source": [
    "inital_time=time.process_time();"
   ]
  },
  {
   "cell_type": "code",
   "execution_count": 15,
   "id": "2004ee90",
   "metadata": {},
   "outputs": [],
   "source": [
    "total_sum=0\n",
    "for x in range(10**6):\n",
    "    total_sum=total_sum+x;"
   ]
  },
  {
   "cell_type": "code",
   "execution_count": 16,
   "id": "9ed4c4c5",
   "metadata": {},
   "outputs": [
    {
     "name": "stdout",
     "output_type": "stream",
     "text": [
      "1.0760800000000081e-07\n"
     ]
    }
   ],
   "source": [
    "print((time.process_time()-inital_time)/10**6)"
   ]
  },
  {
   "cell_type": "code",
   "execution_count": null,
   "id": "eb4b59d8",
   "metadata": {},
   "outputs": [],
   "source": []
  },
  {
   "cell_type": "code",
   "execution_count": null,
   "id": "3ab57e28",
   "metadata": {},
   "outputs": [],
   "source": []
  }
 ],
 "metadata": {
  "kernelspec": {
   "display_name": "Python 3 (ipykernel)",
   "language": "python",
   "name": "python3"
  },
  "language_info": {
   "codemirror_mode": {
    "name": "ipython",
    "version": 3
   },
   "file_extension": ".py",
   "mimetype": "text/x-python",
   "name": "python",
   "nbconvert_exporter": "python",
   "pygments_lexer": "ipython3",
   "version": "3.9.9"
  }
 },
 "nbformat": 4,
 "nbformat_minor": 5
}
