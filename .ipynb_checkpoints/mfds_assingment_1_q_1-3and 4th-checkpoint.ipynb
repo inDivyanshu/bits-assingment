{
 "cells": [
  {
   "cell_type": "code",
   "execution_count": 473,
   "id": "19470e61",
   "metadata": {},
   "outputs": [],
   "source": [
    "#all the imports here\n",
    "from math import floor,log\n",
    "import random\n"
   ]
  },
  {
   "cell_type": "code",
   "execution_count": 474,
   "id": "7968d279",
   "metadata": {},
   "outputs": [],
   "source": [
    "#variables defined here\n",
    "add_count=0;\n",
    "multiple_count=0;\n",
    "division_count=0;"
   ]
  },
  {
   "cell_type": "code",
   "execution_count": 475,
   "id": "bf5c9f96",
   "metadata": {},
   "outputs": [],
   "source": [
    "# random number generator function\n",
    "def customRandomNumber(a,b,t):\n",
    "    if(t==\"rank\"):\n",
    "        return random.randrange(a,b)\n",
    "    if(a==0 and b==0):\n",
    "        return random.random()\n",
    "    else:\n",
    "                return random.randrange(a,b)\n",
    "        #return random.uniform(a,b)\n",
    "\n"
   ]
  },
  {
   "cell_type": "code",
   "execution_count": 476,
   "id": "6fc91609",
   "metadata": {},
   "outputs": [],
   "source": [
    "def roundto_d_significant(value, sig_digits):\n",
    "    if value == 0:\n",
    "        return 0\n",
    "    else:\n",
    "        return round(value, sig_digits - int(floor(log10(abs(value)))) - 1)"
   ]
  },
  {
   "cell_type": "code",
   "execution_count": 477,
   "id": "7cea8a7c",
   "metadata": {},
   "outputs": [],
   "source": [
    "# generate random matrix\n",
    "def randomMatrix(matrixROW,elementRangeStart,elementRangeEnd,sig_digits):\n",
    "    matrix=[[ 0 for x in range(matrixROW)] for y in range(matrixROW)]\n",
    "    for x in range(matrixROW): \n",
    "             for y in range(matrixROW): \n",
    "                 matrix[x][y] = roundto_d_significant(customRandomNumber(elementRangeStart,elementRangeEnd,''),sig_digits)\n",
    "    return matrix\n",
    "\n"
   ]
  },
  {
   "cell_type": "code",
   "execution_count": 478,
   "id": "8cd9759f",
   "metadata": {},
   "outputs": [],
   "source": [
    "#Ax=C\n",
    "def C_Matrix(matrixROW,elementRangeStart,elementRangeEnd,sig_digits):\n",
    "    matrix=[[0 for x in range(1)]  for y in range(matrixROW) ]\n",
    "    for y in range(matrixROW): \n",
    "        matrix[y][0] = roundto_d_significant(customRandomNumber(elementRangeStart,elementRangeEnd,''),sig_digits)\n",
    "    return matrix\n",
    "  "
   ]
  },
  {
   "cell_type": "code",
   "execution_count": 479,
   "id": "8ccf9e6d",
   "metadata": {
    "scrolled": true
   },
   "outputs": [],
   "source": [
    "# without pivioitng\n",
    "def forwardElimination(matrix,C_matrix,sig_digits,matrixROW):\n",
    "    # Create augmented matrix\n",
    "    for i in range(len(matrix)):\n",
    "        matrix[i].append(C_matrix[i][0])\n",
    "    print(\"Augumented : \",matrix)\n",
    "    \n",
    "    # start elimination forward style\n",
    "    for totalLoops in range(matrixROW-1):  # for pivot element\n",
    "        for row in range(len(matrix)):\n",
    "            if(matrix[row][totalLoops]==0):\n",
    "                pass\n",
    "            else:\n",
    "                newCol=matrix[row][totalLoops]\n",
    "                for coloumn in range(len(matrix[row])):\n",
    "                    if(row<=totalLoops or matrix[totalLoops][totalLoops] ==0):\n",
    "                        pass\n",
    "                    else:\n",
    "                        matrix[row][coloumn]=roundto_d_significant((matrix[row][coloumn]-(newCol * (matrix[totalLoops][coloumn]/matrix[totalLoops][totalLoops]))) ,sig_digits)\n",
    "\n",
    "    \n",
    "    return matrix #Auguemented resultant from forward matrix\n",
    "    "
   ]
  },
  {
   "cell_type": "code",
   "execution_count": 480,
   "id": "0373753a",
   "metadata": {},
   "outputs": [],
   "source": [
    "# partial pivoiting\n",
    "\n",
    "# without pivioitng\n",
    "def forwardEliminationPivoting(matrix,C_matrix,sig_digits,matrixROW):\n",
    "    # Create augmented matrix\n",
    "    for i in range(len(matrix)):\n",
    "        matrix[i].append(C_matrix[i][0])\n",
    "    print(\"Augumented : \",matrix)\n",
    "    \n",
    "    # start elimination forward style\n",
    "    for totalLoops in range(matrixROW-1):  # for pivot element\n",
    "        currentMax=matrix[totalLoops][totalLoops]\n",
    "        j=totalLoops;\n",
    "        for row in range(len(matrix)):\n",
    "            if(abs(currentMax)<abs(matrix[row][totalLoops]) and row>totalLoops):\n",
    "                currentMax=matrix[row][totalLoops]\n",
    "                j=row\n",
    "        if(j!=totalLoops):\n",
    "            temp=matrix[totalLoops]\n",
    "            matrix[totalLoops]=matrix[j]\n",
    "            matrix[j]=temp\n",
    "        for row in range(len(matrix)):\n",
    "            if(matrix[row][totalLoops]==0):\n",
    "                pass\n",
    "            else:\n",
    "                newCol=matrix[row][totalLoops]\n",
    "                for coloumn in range(len(matrix[row])):\n",
    "                    if(row<=totalLoops or matrix[totalLoops][totalLoops] ==0):\n",
    "                        pass\n",
    "                    else:\n",
    "                        matrix[row][coloumn]=roundto_d_significant((matrix[row][coloumn]-(newCol * (matrix[totalLoops][coloumn]/matrix[totalLoops][totalLoops]))) ,sig_digits)\n",
    "\n",
    "    \n",
    "    return matrix #Auguemented resultant from forward matrix\n",
    "    "
   ]
  },
  {
   "cell_type": "code",
   "execution_count": 481,
   "id": "ef1271a3",
   "metadata": {},
   "outputs": [],
   "source": [
    "def backWardElimination(matrix,C_matrix,sig_digits,matrixROW):\n",
    "    b=[[0 for x in range(1)]  for y in range(matrixROW) ];\n",
    "    length_of_column=len(matrix[0])\n",
    "    for x in reversed(range(matrixROW)):\n",
    "        a=0;\n",
    "        for j in reversed(range(length_of_column)):\n",
    "            if(length_of_column-1==j):\n",
    "                a=roundto_d_significant(matrix[x][j],sig_digits)\n",
    "            elif(x==j):\n",
    "                a=roundto_d_significant(a/matrix[x][j],sig_digits)\n",
    "            elif(j<matrixROW and j>=x):\n",
    "                 a = roundto_d_significant(a - matrix[x][j]*b[j][0],sig_digits) \n",
    "        b[x][0]=a\n",
    "\n",
    "    return b\n",
    "    \n",
    "                \n",
    "            "
   ]
  },
  {
   "cell_type": "code",
   "execution_count": 482,
   "id": "84f95934",
   "metadata": {},
   "outputs": [],
   "source": [
    "def  gausianElimination(rowRangeStart,rowRangeEnd,elementRangeStart,elementRangeEnd,sig_digits):\n",
    "        matrixROW =customRandomNumber(rowRangeStart,rowRangeEnd,'rank')\n",
    "        matrix = randomMatrix(matrixROW,elementRangeStart,elementRangeEnd,sig_digits)\n",
    "        Cmatrix = C_Matrix(matrixROW,elementRangeStart,elementRangeEnd,sig_digits)\n",
    "        print(\"c: \", Cmatrix)\n",
    "        print(\"A:\", matrix)\n",
    "        withoutPivotMatrix = forwardElimination(matrix,Cmatrix,sig_digits,matrixROW);\n",
    "        withPivotMatrix = forwardEliminationPivoting(matrix,Cmatrix,sig_digits,matrixROW);\n",
    "        solutionmatrixwithpivot= backWardElimination(withPivotMatrix,Cmatrix,sig_digits,matrixROW)\n",
    "        solutionmatrixwithoutpivot=backWardElimination(withoutPivotMatrix,Cmatrix,sig_digits,matrixROW)\n",
    "        print(\"vector matrix with pivot\",solutionmatrixwithpivot)\n",
    "        print(\"vector matrix with pivot\",solutionmatrixwithoutpivot)\n"
   ]
  },
  {
   "cell_type": "code",
   "execution_count": 483,
   "id": "0e2cdf4f",
   "metadata": {},
   "outputs": [
    {
     "name": "stdout",
     "output_type": "stream",
     "text": [
      "c:  [[-31], [-52], [-28]]\n",
      "A: [[64, 37, 61], [32, 84, -81], [-1, -79, 81]]\n",
      "Augumented :  [[64, 37, 61, -31], [32, 84, -81, -52], [-1, -79, 81, -28]]\n",
      "Augumented :  [[64, 37, 61, -31, -31], [0, 65.5, -111.5, -36.5, -52], [0, 0, -51.544, -72.185, -28]]\n",
      "vector matrix with pivot [[-1.0778], [0.13084], [0.54323]]\n",
      "vector matrix with pivot [[-1.0778], [0.13084], [0.54323]]\n"
     ]
    }
   ],
   "source": [
    "gausianElimination(3,4,-100,100,5)"
   ]
  },
  {
   "cell_type": "code",
   "execution_count": null,
   "id": "2af76afd",
   "metadata": {},
   "outputs": [],
   "source": []
  },
  {
   "cell_type": "code",
   "execution_count": null,
   "id": "d0c85d9e",
   "metadata": {},
   "outputs": [],
   "source": []
  },
  {
   "cell_type": "code",
   "execution_count": null,
   "id": "1efa9d4f",
   "metadata": {},
   "outputs": [],
   "source": []
  },
  {
   "cell_type": "code",
   "execution_count": null,
   "id": "20c1afbe",
   "metadata": {},
   "outputs": [],
   "source": []
  }
 ],
 "metadata": {
  "kernelspec": {
   "display_name": "Python 3 (ipykernel)",
   "language": "python",
   "name": "python3"
  },
  "language_info": {
   "codemirror_mode": {
    "name": "ipython",
    "version": 3
   },
   "file_extension": ".py",
   "mimetype": "text/x-python",
   "name": "python",
   "nbconvert_exporter": "python",
   "pygments_lexer": "ipython3",
   "version": "3.9.7"
  }
 },
 "nbformat": 4,
 "nbformat_minor": 5
}
