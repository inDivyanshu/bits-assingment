{
 "cells": [
  {
   "cell_type": "code",
   "execution_count": 353,
   "id": "a1e849fa",
   "metadata": {},
   "outputs": [],
   "source": [
    "#all the imports here\n",
    "from math import floor,log\n",
    "import random\n"
   ]
  },
  {
   "cell_type": "code",
   "execution_count": 354,
   "id": "4dd1980d",
   "metadata": {},
   "outputs": [],
   "source": [
    "#variables defined here\n",
    "add_count=0;\n",
    "multiple_count=0;\n",
    "division_count=0;"
   ]
  },
  {
   "cell_type": "code",
   "execution_count": 355,
   "id": "0ce4d876",
   "metadata": {},
   "outputs": [],
   "source": [
    "# random number generator function\n",
    "def customRandomNumber(a,b,t):\n",
    "    if(t==\"rank\"):\n",
    "        return random.randrange(a,b)\n",
    "    if(a==0 and b==0):\n",
    "        return random.random()\n",
    "    else:\n",
    "                return random.randrange(a,b)\n",
    "        #return random.uniform(a,b)\n",
    "\n"
   ]
  },
  {
   "cell_type": "code",
   "execution_count": 356,
   "id": "df5849ce",
   "metadata": {},
   "outputs": [],
   "source": [
    "def roundto_d_significant(value, sig_digits):\n",
    "    print(value,sig_digits)\n",
    "    if value == 0:\n",
    "        return 0\n",
    "    else:\n",
    "        return round(value, sig_digits - int(floor(log10(abs(value)))) - 1)"
   ]
  },
  {
   "cell_type": "code",
   "execution_count": 357,
   "id": "4815d624",
   "metadata": {},
   "outputs": [],
   "source": [
    "# generate random matrix\n",
    "def randomMatrix(matrixROW,elementRangeStart,elementRangeEnd,sig_digits):\n",
    "    matrix=[[ 0 for x in range(matrixROW)] for y in range(matrixROW)]\n",
    "    for x in range(matrixROW): \n",
    "             for y in range(matrixROW): \n",
    "                 matrix[x][y] = roundto_d_significant(customRandomNumber(elementRangeStart,elementRangeEnd,''),sig_digits)\n",
    "#     print(matrix)\n",
    "    return matrix\n",
    "\n"
   ]
  },
  {
   "cell_type": "code",
   "execution_count": 358,
   "id": "a86ebc7c",
   "metadata": {},
   "outputs": [],
   "source": [
    "#Ax=C\n",
    "def C_Matrix(matrixROW,elementRangeStart,elementRangeEnd,sig_digits):\n",
    "    matrix=[[0 for x in range(1)]  for y in range(matrixROW) ]\n",
    "    for y in range(matrixROW): \n",
    "        matrix[y][0] = roundto_d_significant(customRandomNumber(elementRangeStart,elementRangeEnd,''),sig_digits)\n",
    "    return matrix\n",
    "  "
   ]
  },
  {
   "cell_type": "code",
   "execution_count": 359,
   "id": "320db476",
   "metadata": {
    "scrolled": true
   },
   "outputs": [],
   "source": [
    "# without pivioitng\n",
    "def forwardElimination(matrix,C_matrix,sig_digits,matrixROW):\n",
    "    # Create augmented matrix\n",
    "    for i in range(len(matrix)):\n",
    "        matrix[i].append(C_matrix[i][0])\n",
    "    print(\"Augumented : \",matrix)\n",
    "    \n",
    "    # start elimination forward style\n",
    "    for totalLoops in range(matrixROW-1):  # for pivot element\n",
    "        for row in range(len(matrix)):\n",
    "            if(matrix[row][totalLoops]==0):\n",
    "                print('pass:', row)\n",
    "                pass\n",
    "            else:\n",
    "                newCol=matrix[row][totalLoops]\n",
    "                for coloumn in range(len(matrix[row])):\n",
    "                    if(row<=totalLoops or matrix[totalLoops][totalLoops] ==0):\n",
    "                        pass\n",
    "                    else:\n",
    "                        matrix[row][coloumn]=roundto_d_significant((matrix[row][coloumn]-(newCol * (matrix[totalLoops][coloumn]/matrix[totalLoops][totalLoops]))) ,sig_digits)\n",
    "\n",
    "    \n",
    "    return matrix #Auguemented resultant from forward matrix\n",
    "    "
   ]
  },
  {
   "cell_type": "code",
   "execution_count": 366,
   "id": "7bb555d2",
   "metadata": {},
   "outputs": [],
   "source": [
    "# partial pivoiting\n",
    "\n",
    "# without pivioitng\n",
    "def forwardEliminationPivoting(matrix,C_matrix,sig_digits,matrixROW):\n",
    "    # Create augmented matrix\n",
    "    for i in range(len(matrix)):\n",
    "        matrix[i].append(C_matrix[i][0])\n",
    "    print(\"Augumented : \",matrix)\n",
    "    \n",
    "    # start elimination forward style\n",
    "    for totalLoops in range(matrixROW-1):  # for pivot element\n",
    "        currentMax=matrix[totalLoops][totalLoops]\n",
    "        j=totalLoops;\n",
    "        for row in range(len(matrix)):\n",
    "            if(abs(currentMax)<abs(matrix[row][totalLoops]) and row>totalLoops):\n",
    "                currentMax=matrix[row][totalLoops]\n",
    "                j=row\n",
    "        if(j!=totalLoops):\n",
    "            temp=matrix[totalLoops]\n",
    "            matrix[totalLoops]=matrix[j]\n",
    "            matrix[j]=temp\n",
    "        for row in range(len(matrix)):\n",
    "            if(matrix[row][totalLoops]==0):\n",
    "                print('pass:', row)\n",
    "                pass\n",
    "            else:\n",
    "                newCol=matrix[row][totalLoops]\n",
    "                for coloumn in range(len(matrix[row])):\n",
    "                    if(row<=totalLoops or matrix[totalLoops][totalLoops] ==0):\n",
    "                        pass\n",
    "                    else:\n",
    "                        matrix[row][coloumn]=roundto_d_significant((matrix[row][coloumn]-(newCol * (matrix[totalLoops][coloumn]/matrix[totalLoops][totalLoops]))) ,sig_digits)\n",
    "\n",
    "    \n",
    "    return matrix #Auguemented resultant from forward matrix\n",
    "    "
   ]
  },
  {
   "cell_type": "code",
   "execution_count": 468,
   "id": "15441af3",
   "metadata": {},
   "outputs": [],
   "source": [
    "def backWardElimination(matrix,C_matrix,sig_digits,matrixROW):\n",
    "    b=[[0 for x in range(1)]  for y in range(matrixROW) ];\n",
    "    length_of_column=len(matrix[0])\n",
    "    for x in reversed(range(matrixROW)):\n",
    "        print('x',x)\n",
    "        a=0;\n",
    "        for j in reversed(range(length_of_column)):\n",
    "            print(\"j\",j,length_of_column)\n",
    "            if(length_of_column-1==j):\n",
    "                print(\"n here\")\n",
    "                a=roundto_d_significant(matrix[x][j],sig_digits)\n",
    "            elif(x==j):\n",
    "                a=roundto_d_significant(a/matrix[x][j],sig_digits)\n",
    "            elif(j<matrixROW and j>=x):\n",
    "                 a = roundto_d_significant(a - matrix[x][j]*b[j][0],sig_digits) \n",
    "        b[x][0]=a\n",
    "\n",
    "    print(\"vector matrix\",b)\n",
    "    \n",
    "                \n",
    "            "
   ]
  },
  {
   "cell_type": "code",
   "execution_count": 469,
   "id": "4e168f48",
   "metadata": {},
   "outputs": [],
   "source": [
    "def  gausianElimination(rowRangeStart,rowRangeEnd,elementRangeStart,elementRangeEnd,sig_digits):\n",
    "        matrixROW =customRandomNumber(rowRangeStart,rowRangeEnd,'rank')\n",
    "        matrix = randomMatrix(matrixROW,elementRangeStart,elementRangeEnd,sig_digits)\n",
    "        Cmatrix = C_Matrix(matrixROW,elementRangeStart,elementRangeEnd,sig_digits)\n",
    "        print(\"c: \", Cmatrix)\n",
    "        print(\"A:\", matrix)\n",
    "        #forwardElimination(matrix,Cmatrix,sig_digits,matrixROW)\n",
    "        matrix = forwardEliminationPivoting(matrix,Cmatrix,sig_digits,matrixROW);\n",
    "        \n",
    "        backWardElimination(matrix,Cmatrix,sig_digits,matrixROW)\n"
   ]
  },
  {
   "cell_type": "code",
   "execution_count": 470,
   "id": "b1c877fb",
   "metadata": {},
   "outputs": [
    {
     "name": "stdout",
     "output_type": "stream",
     "text": [
      "92 5\n",
      "71 5\n",
      "59 5\n",
      "45 5\n",
      "-36 5\n",
      "36 5\n",
      "86 5\n",
      "-83 5\n",
      "-2 5\n",
      "-23 5\n",
      "-89 5\n",
      "-49 5\n",
      "c:  [[-23], [-89], [-49]]\n",
      "A: [[92, 71, 59], [45, -36, 36], [86, -83, -2]]\n",
      "Augumented :  [[92, 71, 59, -23], [45, -36, 36, -89], [86, -83, -2, -49]]\n",
      "original matrix [[92, 71, 59, -23], [45, -36, 36, -89], [86, -83, -2, -49]]\n",
      "partial pivoting loop: [[92, 71, 59, -23], [45, -36, 36, -89], [86, -83, -2, -49]]\n",
      "0.0 5\n",
      "-70.72826086956522 5\n",
      "7.14130434782609 5\n",
      "-77.75 5\n",
      "0.0 5\n",
      "-149.3695652173913 5\n",
      "-57.15217391304348 5\n",
      "-27.5 5\n",
      "original matrix [[92, 71, 59, -23], [0, -70.728, 7.1413, -77.75], [0, -149.37, -57.152, -27.5]]\n",
      "partial pivoting loop: [[92, 71, 59, -23], [0, -149.37, -57.152, -27.5], [0, -70.728, 7.1413, -77.75]]\n",
      "0.0 5\n",
      "0.0 5\n",
      "34.203271319542075 5\n",
      "-64.72850974091183 5\n",
      "x 2\n",
      "j 3 4\n",
      "n here\n",
      "-64.729 5\n",
      "j 2 4\n",
      "-1.8924948103967487 5\n",
      "j 1 4\n",
      "j 0 4\n",
      "x 1\n",
      "j 3 4\n",
      "n here\n",
      "-27.5 5\n",
      "j 2 4\n",
      "-135.66016000000002 5\n",
      "j 1 4\n",
      "0.9082145009037959 5\n",
      "j 0 4\n",
      "x 0\n",
      "j 3 4\n",
      "n here\n",
      "-23 5\n",
      "j 2 4\n",
      "88.6575 5\n",
      "j 1 4\n",
      "24.174089999999993 5\n",
      "j 0 4\n",
      "0.2627608695652174 5\n",
      "vector matrix [[0.26276], [0.90821], [-1.8925]]\n"
     ]
    }
   ],
   "source": [
    "gausianElimination(3,4,-100,100,5)"
   ]
  },
  {
   "cell_type": "code",
   "execution_count": null,
   "id": "f1294cae",
   "metadata": {},
   "outputs": [],
   "source": []
  },
  {
   "cell_type": "code",
   "execution_count": null,
   "id": "2f356e4f",
   "metadata": {},
   "outputs": [],
   "source": []
  },
  {
   "cell_type": "code",
   "execution_count": null,
   "id": "4ae96006",
   "metadata": {},
   "outputs": [],
   "source": []
  },
  {
   "cell_type": "code",
   "execution_count": null,
   "id": "16a4f4c6",
   "metadata": {},
   "outputs": [],
   "source": []
  }
 ],
 "metadata": {
  "kernelspec": {
   "display_name": "Python 3 (ipykernel)",
   "language": "python",
   "name": "python3"
  },
  "language_info": {
   "codemirror_mode": {
    "name": "ipython",
    "version": 3
   },
   "file_extension": ".py",
   "mimetype": "text/x-python",
   "name": "python",
   "nbconvert_exporter": "python",
   "pygments_lexer": "ipython3",
   "version": "3.9.7"
  }
 },
 "nbformat": 4,
 "nbformat_minor": 5
}
