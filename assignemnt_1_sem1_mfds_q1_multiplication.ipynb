{
 "cells": [
  {
   "cell_type": "code",
   "execution_count": 1,
   "id": "532c3bee",
   "metadata": {},
   "outputs": [],
   "source": [
    "import time\n",
    "import random\n",
    "import pandas as pd\n",
    "from tqdm import tqdm\n",
    "from copy import copy, deepcopy\n",
    "from pprint import pprint\n",
    "from functools import partial\n",
    "from matplotlib import pyplot as plt"
   ]
  },
  {
   "cell_type": "code",
   "execution_count": 6,
   "id": "eb2ce02f",
   "metadata": {},
   "outputs": [],
   "source": [
    "## Add operation\n",
    "add_op = 1\n",
    "st_time = time.time()\n",
    "for i in range(2, (10**6)+1):\n",
    "    add_op = i + add_op\n",
    "time_taken = time.time() - st_time\n",
    "print(f\"Total time taken for add operation: {time_taken} seconds\")\n",
    "print(f\"Approximate time taken for one add operation: {(time_taken / (10**6))} seconds\")\n",
    "print(add_op)"
   ]
  },
  {
   "cell_type": "code",
   "execution_count": 7,
   "id": "93e921b8",
   "metadata": {},
   "outputs": [],
   "source": [
    "inital_time=time.process_time();"
   ]
  },
  {
   "cell_type": "code",
   "execution_count": 8,
   "id": "2004ee90",
   "metadata": {},
   "outputs": [],
   "source": [
    "num=1\n",
    "y=0\n",
    "for x in range(1,10**6):\n",
    "   y=num*x"
   ]
  },
  {
   "cell_type": "code",
   "execution_count": 9,
   "id": "9ed4c4c5",
   "metadata": {},
   "outputs": [
    {
     "name": "stdout",
     "output_type": "stream",
     "text": [
      "8.961400000000008e-08\n"
     ]
    }
   ],
   "source": [
    "print((time.process_time()-inital_time)/10**6)"
   ]
  },
  {
   "cell_type": "code",
   "execution_count": null,
   "id": "6b975d73",
   "metadata": {},
   "outputs": [],
   "source": []
  },
  {
   "cell_type": "code",
   "execution_count": null,
   "id": "2231ea37",
   "metadata": {},
   "outputs": [],
   "source": []
  }
 ],
 "metadata": {
  "kernelspec": {
   "display_name": "Python 3 (ipykernel)",
   "language": "python",
   "name": "python3"
  },
  "language_info": {
   "codemirror_mode": {
    "name": "ipython",
    "version": 3
   },
   "file_extension": ".py",
   "mimetype": "text/x-python",
   "name": "python",
   "nbconvert_exporter": "python",
   "pygments_lexer": "ipython3",
   "version": "3.9.7"
  }
 },
 "nbformat": 4,
 "nbformat_minor": 5
}
