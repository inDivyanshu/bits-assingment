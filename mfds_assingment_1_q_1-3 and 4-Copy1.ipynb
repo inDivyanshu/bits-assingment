{
 "cells": [
  {
   "cell_type": "code",
   "execution_count": 1,
   "id": "d0a71c7d",
   "metadata": {},
   "outputs": [],
   "source": [
    "#all the imports here\n",
    "import math\n",
    "import random\n",
    "from copy import deepcopy\n",
    "import time\n",
    "from matplotlib import pyplot as plt\n",
    "inital_time=time.process_time();\n",
    "total_sum=0\n",
    "for x in range(10**6):\n",
    "    total_sum=total_sum+x;\n",
    "add_time=(time.process_time()-inital_time)\n",
    "inital_time=time.process_time();\n",
    "num1=2340000\n",
    "num2=3230000\n",
    "y=0\n",
    "for x in range(1,10**6):\n",
    "    y=num2/num1;\n",
    "div_time = (time.process_time()-inital_time)\n",
    "inital_time=time.process_time();\n",
    "num1=230\n",
    "num2=344\n",
    "y=0\n",
    "for x in range(1,10**6):\n",
    "    y=num2*num1;\n",
    "mul_time = (time.process_time()-inital_time)"
   ]
  },
  {
   "cell_type": "code",
   "execution_count": 2,
   "id": "a1aff93f",
   "metadata": {},
   "outputs": [],
   "source": [
    "# random number generator function\n",
    "def customRandomNumber(a,b,t):\n",
    "    if(t==\"rank\"):\n",
    "        return random.randrange(a,b)\n",
    "    if(a==0 and b==0):\n",
    "        return random.random()\n",
    "    else:\n",
    "#                 return random.randrange(a,b)\n",
    "        return random.uniform(a,b)\n",
    "\n"
   ]
  },
  {
   "cell_type": "code",
   "execution_count": 3,
   "id": "403d5648",
   "metadata": {},
   "outputs": [],
   "source": [
    "def roundto_d_significant(value, sig_digits):\n",
    "    if value == 0:\n",
    "        return 0\n",
    "    else:\n",
    "        return round(value, sig_digits - int(math.floor(math.log10(abs(value)))) - 1)"
   ]
  },
  {
   "cell_type": "code",
   "execution_count": 4,
   "id": "12fce11f",
   "metadata": {},
   "outputs": [],
   "source": [
    "# generate random matrix\n",
    "def randomMatrix(matrixROW,elementRangeStart,elementRangeEnd,sig_digits):\n",
    "    matrix=[[ 0 for x in range(matrixROW)] for y in range(matrixROW)]\n",
    "    for x in range(matrixROW): \n",
    "             for y in range(matrixROW): \n",
    "                 matrix[x][y] = roundto_d_significant(customRandomNumber(elementRangeStart,elementRangeEnd,''),sig_digits)\n",
    "    return matrix\n",
    "\n"
   ]
  },
  {
   "cell_type": "code",
   "execution_count": 5,
   "id": "e79f557e",
   "metadata": {},
   "outputs": [],
   "source": [
    "#Ax=C\n",
    "def C_Matrix(matrixROW,elementRangeStart,elementRangeEnd,sig_digits):\n",
    "    matrix=[[0 for x in range(1)]  for y in range(matrixROW) ]\n",
    "    for y in range(matrixROW): \n",
    "        matrix[y][0] = roundto_d_significant(customRandomNumber(elementRangeStart,elementRangeEnd,''),sig_digits)\n",
    "    return matrix\n",
    "  "
   ]
  },
  {
   "cell_type": "code",
   "execution_count": 6,
   "id": "2ba7736b",
   "metadata": {
    "scrolled": true
   },
   "outputs": [],
   "source": [
    "# without pivioitng\n",
    "def forwardElimination(mat,C_matrix,sig_digits,matrixROW,isPivot):\n",
    "    # Create augmented matrix\n",
    "    add=0;\n",
    "    multiply=0;\n",
    "    divide=0;\n",
    "    for i in range(len(mat)):\n",
    "        mat[i].append(mat[i][0])\n",
    "\n",
    "\n",
    "    \n",
    "    # start elimination forward style\n",
    "    for totalLoops in range(matrixROW-1):  # for pivot element\n",
    "        if(isPivot==\"true\"):\n",
    "            currentMax=mat[totalLoops][totalLoops]\n",
    "            j=totalLoops;\n",
    "            for row in range(len(mat)):\n",
    "                if(abs(currentMax)<abs(mat[row][totalLoops]) and row>totalLoops):\n",
    "                    currentMax=mat[row][totalLoops]\n",
    "                    j=row\n",
    "            if(j!=totalLoops):\n",
    "                temp=mat[totalLoops]\n",
    "                mat[totalLoops]=mat[j]\n",
    "                mat[j]=temp\n",
    "        for row in range(len(mat)):\n",
    "            if(mat[row][totalLoops]==0):\n",
    "                pass\n",
    "            else:\n",
    "                newCol=mat[row][totalLoops]\n",
    "                if(row>totalLoops):\n",
    "                    divide=divide+1;\n",
    "\n",
    "                for coloumn in range(len(mat[row])):\n",
    "                    if(row<=totalLoops or mat[totalLoops][totalLoops] ==0):\n",
    "                        continue\n",
    "                    else:\n",
    "                        mat[row][coloumn]=roundto_d_significant((mat[row][coloumn]-(newCol * (mat[totalLoops][coloumn]/mat[totalLoops][totalLoops]))) ,sig_digits)\n",
    "                        add=add+1;\n",
    "                        multiply=multiply+1;\n",
    "                             \n",
    "\n",
    "    \n",
    "    return [mat,add,multiply,divide] #Auguemented resultant from forward matrix\n",
    "\n",
    "    "
   ]
  },
  {
   "cell_type": "code",
   "execution_count": 7,
   "id": "eda56e83",
   "metadata": {},
   "outputs": [],
   "source": [
    "def backWardElimination(matrix,C_matrix,sig_digits,matrixROW):\n",
    "    b=[[0 for x in range(1)]  for y in range(matrixROW) ];\n",
    "    add_Count=0;\n",
    "    multiply=0;\n",
    "    divide=0;\n",
    "    length_of_column=len(matrix[0])\n",
    "    for x in reversed(range(matrixROW)):\n",
    "        a=0;\n",
    "        for j in reversed(range(length_of_column)):\n",
    "            if(length_of_column-1==j):\n",
    "                a=roundto_d_significant(matrix[x][j],sig_digits)\n",
    "            elif(x==j):\n",
    "                a=roundto_d_significant(a/matrix[x][j],sig_digits)\n",
    "                divide=divide+1\n",
    "            elif(j<matrixROW and j>=x):\n",
    "                 a = roundto_d_significant(a - matrix[x][j]*b[j][0],sig_digits) \n",
    "                 add_Count=add_Count+1\n",
    "                 multiply=multiply+1\n",
    "        b[x][0]=a\n",
    "\n",
    "    return [add_Count,multiply,divide]\n",
    "    \n",
    "                \n",
    "            "
   ]
  },
  {
   "cell_type": "code",
   "execution_count": 8,
   "id": "0dfb0b42",
   "metadata": {},
   "outputs": [],
   "source": [
    "def  gausianElimination(rowRangeStart,rowRangeEnd,elementRangeStart,elementRangeEnd,sig_digits,t):\n",
    "        matrixROW=t\n",
    "        if(t>0):\n",
    "            matrixRow=t\n",
    "        else:\n",
    "            matrixROW =customRandomNumber(rowRangeStart,rowRangeEnd,'rank')\n",
    "        matr = randomMatrix(matrixROW,elementRangeStart,elementRangeEnd,sig_digits)\n",
    "        Cmatrix = C_Matrix(matrixROW,elementRangeStart,elementRangeEnd,sig_digits)\n",
    "        new_matrix=deepcopy(matr)\n",
    "        #without pivot\n",
    "#         withPivotMatrix = forwardElimination(matr,Cmatrix,sig_digits,matrixROW,\"false\");\n",
    "        withPivotMatrix = forwardElimination(new_matrix,Cmatrix,sig_digits,matrixROW,\"true\");\n",
    "        solutionmatrixwithpivot=backWardElimination(withPivotMatrix[0],Cmatrix,sig_digits,matrixROW)\n",
    "\n",
    "        return [withPivotMatrix[1]+solutionmatrixwithpivot[0],\n",
    "               withPivotMatrix[2]+solutionmatrixwithpivot[1],\n",
    "               withPivotMatrix[3]+solutionmatrixwithpivot[2]]"
   ]
  },
  {
   "cell_type": "code",
   "execution_count": null,
   "id": "cce64bce",
   "metadata": {},
   "outputs": [],
   "source": []
  },
  {
   "cell_type": "code",
   "execution_count": 9,
   "id": "74529e03",
   "metadata": {},
   "outputs": [],
   "source": [
    "matrix_time=[[ 1 for j in range(2)] for y in range(10)]\n",
    "time_mat=[0 for y in range(10)]\n",
    "n_mat=[0 for y in range(10)]\n",
    "def rankOfMatrix():\n",
    "    print(matrix_time)\n",
    "    for x in range(100,1100,100):\n",
    "        i=0\n",
    "        real_time=time.process_time();\n",
    "        m=gausianElimination(3,4,-9,9,5,x)\n",
    "        actual_time=time.process_time()-real_time;\n",
    "        z=[(x**2+x)/2, (2*(x**3)+3*(x**2)-5*x)/6]\n",
    "        print(\"for matrix for \",x,m,z)\n",
    "        matrix_time[i][0]=(z[1]*add_time+z[1]*mul_time+z[0]*div_time)/10**6\n",
    "        matrix_time[i][1]=actual_time\n",
    "        print(\"practicle_time\",matrix_time[i][0])\n",
    "        print(\"real_time\",actual_time)\n",
    "        time_mat[i]=math.log10(actual_time)\n",
    "        n_mat[i]=math.log10(x)\n",
    "        i=i+1;\n",
    "    plt.title(\"With Pivot\") \n",
    "    plt.xlabel(\"log(n)\") \n",
    "    plt.ylabel(\"log(Tn)\") \n",
    "    plt.plot(time_mat,n_mat) \n",
    "    plt.show()\n",
    "    \n",
    "\n",
    "    \n"
   ]
  },
  {
   "cell_type": "code",
   "execution_count": 10,
   "id": "dc9cbc4e",
   "metadata": {},
   "outputs": [
    {
     "name": "stdout",
     "output_type": "stream",
     "text": [
      "[[1, 1], [1, 1], [1, 1], [1, 1], [1, 1], [1, 1], [1, 1], [1, 1], [1, 1], [1, 1]]\n",
      "for matrix for  100 [504900, 504900, 5050] [5050.0, 338250.0]\n",
      "practicle_time 0.059673508599999994\n",
      "real_time 0.46086899999999975\n",
      "for matrix for  200 [4019800, 4019800, 20100] [20100.0, 2686500.0]\n",
      "practicle_time 0.47233785719999993\n",
      "real_time 3.5463069999999997\n",
      "for matrix for  300 [13544700, 13544700, 45150] [45150.0, 9044750.0]\n",
      "practicle_time 1.5884270457999998\n",
      "real_time 12.047148\n",
      "for matrix for  400 [32079600, 32079600, 80200] [80200.0, 21413000.0]\n",
      "practicle_time 3.7583750743999995\n",
      "real_time 27.937763\n",
      "for matrix for  500 [62624500, 62624500, 125250] [125250.0, 41791250.0]\n",
      "practicle_time 7.332615942999998\n",
      "real_time 56.114235\n",
      "for matrix for  600 [108179400, 108179400, 180300] [180300.0, 72179500.0]\n",
      "practicle_time 12.661583651599996\n",
      "real_time 93.47753800000001\n",
      "for matrix for  700 [171744300, 171744300, 245350] [245350.0, 114577750.0]\n",
      "practicle_time 20.095712200199998\n",
      "real_time 148.769916\n",
      "for matrix for  800 [256319200, 256319200, 320400] [320400.0, 170986000.0]\n",
      "practicle_time 29.98543558879999\n",
      "real_time 239.83214500000008\n",
      "for matrix for  900 [364904100, 364904100, 405450] [405450.0, 243404250.0]\n",
      "practicle_time 42.68118781739999\n",
      "real_time 339.711944\n",
      "for matrix for  1000 [500499000, 500499000, 500500] [500500.0, 333832500.0]\n",
      "practicle_time 58.53340288599998\n",
      "real_time 448.29229799999996\n"
     ]
    },
    {
     "data": {
      "image/png": "[encoded data removed]",
      "text/plain": [
       "<Figure size 432x288 with 1 Axes>"
      ]
     },
     "metadata": {
      "needs_background": "light"
     },
     "output_type": "display_data"
    }
   ],
   "source": [
    "rankOfMatrix()"
   ]
  },
  {
   "cell_type": "code",
   "execution_count": null,
   "id": "288f6085",
   "metadata": {},
   "outputs": [],
   "source": []
  },
  {
   "cell_type": "code",
   "execution_count": null,
   "id": "5b2f2198",
   "metadata": {},
   "outputs": [],
   "source": []
  },
  {
   "cell_type": "code",
   "execution_count": null,
   "id": "ecb45339",
   "metadata": {},
   "outputs": [],
   "source": []
  },
  {
   "cell_type": "code",
   "execution_count": null,
   "id": "24858fac",
   "metadata": {},
   "outputs": [],
   "source": []
  },
  {
   "cell_type": "code",
   "execution_count": null,
   "id": "cdd98465",
   "metadata": {},
   "outputs": [],
   "source": []
  },
  {
   "cell_type": "code",
   "execution_count": null,
   "id": "d45bd783",
   "metadata": {},
   "outputs": [],
   "source": []
  },
  {
   "cell_type": "code",
   "execution_count": null,
   "id": "d9e7b7d1",
   "metadata": {},
   "outputs": [],
   "source": []
  },
  {
   "cell_type": "code",
   "execution_count": null,
   "id": "d2bc5619",
   "metadata": {},
   "outputs": [],
   "source": []
  },
  {
   "cell_type": "code",
   "execution_count": null,
   "id": "733db0db",
   "metadata": {},
   "outputs": [],
   "source": []
  },
  {
   "cell_type": "code",
   "execution_count": null,
   "id": "f46b5f98",
   "metadata": {},
   "outputs": [],
   "source": []
  },
  {
   "cell_type": "code",
   "execution_count": null,
   "id": "cbeec7f7",
   "metadata": {},
   "outputs": [],
   "source": []
  },
  {
   "cell_type": "code",
   "execution_count": null,
   "id": "d3d7d669",
   "metadata": {},
   "outputs": [],
   "source": []
  }
 ],
 "metadata": {
  "kernelspec": {
   "display_name": "Python 3 (ipykernel)",
   "language": "python",
   "name": "python3"
  },
  "language_info": {
   "codemirror_mode": {
    "name": "ipython",
    "version": 3
   },
   "file_extension": ".py",
   "mimetype": "text/x-python",
   "name": "python",
   "nbconvert_exporter": "python",
   "pygments_lexer": "ipython3",
   "version": "3.9.7"
  }
 },
 "nbformat": 4,
 "nbformat_minor": 5
}
