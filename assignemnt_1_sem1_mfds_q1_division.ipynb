{
 "cells": [
  {
   "cell_type": "code",
   "execution_count": 17,
   "id": "532c3bee",
   "metadata": {},
   "outputs": [],
   "source": [
    "#time it takes to divide the  first 10^6 inetegers (positve only) and divide by 100"
   ]
  },
  {
   "cell_type": "code",
   "execution_count": 25,
   "id": "eb2ce02f",
   "metadata": {},
   "outputs": [],
   "source": [
    "import time"
   ]
  },
  {
   "cell_type": "code",
   "execution_count": 29,
   "id": "93e921b8",
   "metadata": {},
   "outputs": [],
   "source": [
    "inital_time=time.process_time();"
   ]
  },
  {
   "cell_type": "code",
   "execution_count": 30,
   "id": "2004ee90",
   "metadata": {},
   "outputs": [],
   "source": [
    "num1=2340000\n",
    "num2=3230000\n",
    "y=0\n",
    "for x in range(1,10**6):\n",
    "    y=num2/num1;"
   ]
  },
  {
   "cell_type": "code",
   "execution_count": 31,
   "id": "9ed4c4c5",
   "metadata": {},
   "outputs": [
    {
     "name": "stdout",
     "output_type": "stream",
     "text": [
      "1.0136599999998452e-07\n"
     ]
    }
   ],
   "source": [
    "print((time.process_time()-inital_time)/10**6)"
   ]
  },
  {
   "cell_type": "code",
   "execution_count": null,
   "id": "eb4b59d8",
   "metadata": {},
   "outputs": [],
   "source": []
  },
  {
   "cell_type": "code",
   "execution_count": null,
   "id": "3ab57e28",
   "metadata": {},
   "outputs": [],
   "source": []
  },
  {
   "cell_type": "code",
   "execution_count": null,
   "id": "e9332d46",
   "metadata": {},
   "outputs": [],
   "source": []
  }
 ],
 "metadata": {
  "kernelspec": {
   "display_name": "Python 3 (ipykernel)",
   "language": "python",
   "name": "python3"
  },
  "language_info": {
   "codemirror_mode": {
    "name": "ipython",
    "version": 3
   },
   "file_extension": ".py",
   "mimetype": "text/x-python",
   "name": "python",
   "nbconvert_exporter": "python",
   "pygments_lexer": "ipython3",
   "version": "3.9.7"
  }
 },
 "nbformat": 4,
 "nbformat_minor": 5
}
