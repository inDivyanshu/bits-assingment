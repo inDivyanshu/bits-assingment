{
 "cells": [
  {
   "cell_type": "code",
   "execution_count": 1,
   "id": "a1e849fa",
   "metadata": {},
   "outputs": [],
   "source": [
    "#all the imports here\n",
    "from math import floor,log\n",
    "import random\n"
   ]
  },
  {
   "cell_type": "code",
   "execution_count": 2,
   "id": "4dd1980d",
   "metadata": {},
   "outputs": [],
   "source": [
    "#variables defined here\n",
    "add_count=0;\n",
    "multiple_count=0;\n",
    "division_count=0;"
   ]
  },
  {
   "cell_type": "code",
   "execution_count": 3,
   "id": "0ce4d876",
   "metadata": {},
   "outputs": [],
   "source": [
    "# random number generator function\n",
    "def customRandomNumber(a,b,t):\n",
    "    if(t==\"rank\"):\n",
    "        return random.randrange(a,b)\n",
    "    if(a==0 and b==0):\n",
    "        return random.random()\n",
    "    else:\n",
    "                return random.randrange(a,b)\n",
    "        #return random.uniform(a,b)\n",
    "\n"
   ]
  },
  {
   "cell_type": "code",
   "execution_count": 4,
   "id": "df5849ce",
   "metadata": {},
   "outputs": [],
   "source": [
    "def roundto_d_significant(value, sig_digits):\n",
    "    print(value,sig_digits)\n",
    "    if value == 0:\n",
    "        return 0\n",
    "    else:\n",
    "        return round(value, sig_digits - int(floor(log10(abs(value)))) - 1)"
   ]
  },
  {
   "cell_type": "code",
   "execution_count": 5,
   "id": "4815d624",
   "metadata": {},
   "outputs": [],
   "source": [
    "# generate random matrix\n",
    "def randomMatrix(matrixROW,elementRangeStart,elementRangeEnd,sig_digits):\n",
    "    matrix=[[ 0 for x in range(matrixROW)] for y in range(matrixROW)]\n",
    "    for x in range(matrixROW): \n",
    "             for y in range(matrixROW): \n",
    "                 matrix[x][y] = roundto_d_significant(customRandomNumber(elementRangeStart,elementRangeEnd,''),sig_digits)\n",
    "#     print(matrix)\n",
    "    return matrix\n",
    "\n"
   ]
  },
  {
   "cell_type": "code",
   "execution_count": 6,
   "id": "a86ebc7c",
   "metadata": {},
   "outputs": [],
   "source": [
    "#Ax=C\n",
    "def C_Matrix(matrixROW,elementRangeStart,elementRangeEnd,sig_digits):\n",
    "    matrix=[[0 for x in range(1)]  for y in range(matrixROW) ]\n",
    "    for y in range(matrixROW): \n",
    "        matrix[y][0] = roundto_d_significant(customRandomNumber(elementRangeStart,elementRangeEnd,''),sig_digits)\n",
    "    return matrix\n",
    "  "
   ]
  },
  {
   "cell_type": "code",
   "execution_count": 7,
   "id": "320db476",
   "metadata": {
    "scrolled": true
   },
   "outputs": [],
   "source": [
    "# without pivioitng\n",
    "def forwardElimination(matrix,C_matrix,sig_digits,matrixROW):\n",
    "    # Create augmented matrix\n",
    "    for i in range(len(matrix)):\n",
    "        matrix[i].append(C_matrix[i][0])\n",
    "    print(\"Augumented : \",matrix)\n",
    "    \n",
    "    # start elimination forward style\n",
    "    for totalLoops in range(matrixROW-1):  # for pivot element\n",
    "        for row in range(len(matrix)):\n",
    "            if(matrix[row][totalLoops]==0):\n",
    "                print('pass:', row)\n",
    "                pass\n",
    "            else:\n",
    "                newCol=matrix[row][totalLoops]\n",
    "                for coloumn in range(len(matrix[row])):\n",
    "                    if(row<=totalLoops or matrix[totalLoops][totalLoops] ==0):\n",
    "                        pass\n",
    "                    else:\n",
    "                        matrix[row][coloumn]=roundto_d_significant((matrix[row][coloumn]-(newCol * (matrix[totalLoops][coloumn]/matrix[totalLoops][totalLoops]))) ,sig_digits)\n",
    "\n",
    "    \n",
    "    return matrix #Auguemented resultant from forward matrix\n",
    "    "
   ]
  },
  {
   "cell_type": "code",
   "execution_count": 8,
   "id": "7bb555d2",
   "metadata": {},
   "outputs": [],
   "source": [
    "# partial pivoiting\n",
    "\n",
    "# without pivioitng\n",
    "def forwardEliminationPivoting(matrix,C_matrix,sig_digits,matrixROW):\n",
    "    # Create augmented matrix\n",
    "    for i in range(len(matrix)):\n",
    "        matrix[i].append(C_matrix[i][0])\n",
    "    print(\"Augumented : \",matrix)\n",
    "    \n",
    "    # start elimination forward style\n",
    "    for totalLoops in range(matrixROW-1):  # for pivot element\n",
    "        currentMax=matrix[totalLoops][totalLoops]\n",
    "        j=totalLoops;\n",
    "        for row in range(len(matrix)):\n",
    "            if(abs(currentMax)<abs(matrix[row][totalLoops]) and row>totalLoops):\n",
    "                currentMax=matrix[row][totalLoops]\n",
    "                j=row\n",
    "        if(j!=totalLoops):\n",
    "            temp=matrix[totalLoops]\n",
    "            matrix[totalLoops]=matrix[j]\n",
    "            matrix[j]=temp\n",
    "        for row in range(len(matrix)):\n",
    "            if(matrix[row][totalLoops]==0):\n",
    "                print('pass:', row)\n",
    "                pass\n",
    "            else:\n",
    "                newCol=matrix[row][totalLoops]\n",
    "                for coloumn in range(len(matrix[row])):\n",
    "                    if(row<=totalLoops or matrix[totalLoops][totalLoops] ==0):\n",
    "                        pass\n",
    "                    else:\n",
    "                        matrix[row][coloumn]=roundto_d_significant((matrix[row][coloumn]-(newCol * (matrix[totalLoops][coloumn]/matrix[totalLoops][totalLoops]))) ,sig_digits)\n",
    "\n",
    "    \n",
    "    return matrix #Auguemented resultant from forward matrix\n",
    "    "
   ]
  },
  {
   "cell_type": "code",
   "execution_count": 9,
   "id": "15441af3",
   "metadata": {},
   "outputs": [],
   "source": [
    "def backWardElimination(matrix,C_matrix,sig_digits,matrixROW):\n",
    "    b=[[0 for x in range(1)]  for y in range(matrixROW) ];\n",
    "    length_of_column=len(matrix[0])\n",
    "    for x in reversed(range(matrixROW)):\n",
    "        print('x',x)\n",
    "        a=0;\n",
    "        for j in reversed(range(length_of_column)):\n",
    "            print(\"j\",j,length_of_column)\n",
    "            if(length_of_column-1==j):\n",
    "                print(\"n here\")\n",
    "                a=roundto_d_significant(matrix[x][j],sig_digits)\n",
    "            elif(x==j):\n",
    "                a=roundto_d_significant(a/matrix[x][j],sig_digits)\n",
    "            elif(j<matrixROW and j>=x):\n",
    "                 a = roundto_d_significant(a - matrix[x][j]*b[j][0],sig_digits) \n",
    "        b[x][0]=a\n",
    "\n",
    "    print(\"vector matrix\",b)\n",
    "    \n",
    "                \n",
    "            "
   ]
  },
  {
   "cell_type": "code",
   "execution_count": 10,
   "id": "4e168f48",
   "metadata": {},
   "outputs": [],
   "source": [
    "def  gausianElimination(rowRangeStart,rowRangeEnd,elementRangeStart,elementRangeEnd,sig_digits):\n",
    "        matrixROW =customRandomNumber(rowRangeStart,rowRangeEnd,'rank')\n",
    "        matrix = randomMatrix(matrixROW,elementRangeStart,elementRangeEnd,sig_digits)\n",
    "        Cmatrix = C_Matrix(matrixROW,elementRangeStart,elementRangeEnd,sig_digits)\n",
    "        print(\"c: \", Cmatrix)\n",
    "        print(\"A:\", matrix)\n",
    "        #forwardElimination(matrix,Cmatrix,sig_digits,matrixROW)\n",
    "        matrix = forwardEliminationPivoting(matrix,Cmatrix,sig_digits,matrixROW);\n",
    "        \n",
    "        backWardElimination(matrix,Cmatrix,sig_digits,matrixROW)\n"
   ]
  },
  {
   "cell_type": "code",
   "execution_count": 11,
   "id": "b1c877fb",
   "metadata": {},
   "outputs": [
    {
     "name": "stdout",
     "output_type": "stream",
     "text": [
      "18 5\n"
     ]
    },
    {
     "ename": "NameError",
     "evalue": "name 'log10' is not defined",
     "output_type": "error",
     "traceback": [
      "\u001b[0;31m---------------------------------------------------------------------------\u001b[0m",
      "\u001b[0;31mNameError\u001b[0m                                 Traceback (most recent call last)",
      "\u001b[0;32m/var/folders/6t/bh0wgwws4rb8bkbdgnmsfxfr0000gn/T/ipykernel_50417/2733577860.py\u001b[0m in \u001b[0;36m<module>\u001b[0;34m\u001b[0m\n\u001b[0;32m----> 1\u001b[0;31m \u001b[0mgausianElimination\u001b[0m\u001b[0;34m(\u001b[0m\u001b[0;36m3\u001b[0m\u001b[0;34m,\u001b[0m\u001b[0;36m4\u001b[0m\u001b[0;34m,\u001b[0m\u001b[0;34m-\u001b[0m\u001b[0;36m100\u001b[0m\u001b[0;34m,\u001b[0m\u001b[0;36m100\u001b[0m\u001b[0;34m,\u001b[0m\u001b[0;36m5\u001b[0m\u001b[0;34m)\u001b[0m\u001b[0;34m\u001b[0m\u001b[0;34m\u001b[0m\u001b[0m\n\u001b[0m",
      "\u001b[0;32m/var/folders/6t/bh0wgwws4rb8bkbdgnmsfxfr0000gn/T/ipykernel_50417/1682432673.py\u001b[0m in \u001b[0;36mgausianElimination\u001b[0;34m(rowRangeStart, rowRangeEnd, elementRangeStart, elementRangeEnd, sig_digits)\u001b[0m\n\u001b[1;32m      1\u001b[0m \u001b[0;32mdef\u001b[0m  \u001b[0mgausianElimination\u001b[0m\u001b[0;34m(\u001b[0m\u001b[0mrowRangeStart\u001b[0m\u001b[0;34m,\u001b[0m\u001b[0mrowRangeEnd\u001b[0m\u001b[0;34m,\u001b[0m\u001b[0melementRangeStart\u001b[0m\u001b[0;34m,\u001b[0m\u001b[0melementRangeEnd\u001b[0m\u001b[0;34m,\u001b[0m\u001b[0msig_digits\u001b[0m\u001b[0;34m)\u001b[0m\u001b[0;34m:\u001b[0m\u001b[0;34m\u001b[0m\u001b[0;34m\u001b[0m\u001b[0m\n\u001b[1;32m      2\u001b[0m         \u001b[0mmatrixROW\u001b[0m \u001b[0;34m=\u001b[0m\u001b[0mcustomRandomNumber\u001b[0m\u001b[0;34m(\u001b[0m\u001b[0mrowRangeStart\u001b[0m\u001b[0;34m,\u001b[0m\u001b[0mrowRangeEnd\u001b[0m\u001b[0;34m,\u001b[0m\u001b[0;34m'rank'\u001b[0m\u001b[0;34m)\u001b[0m\u001b[0;34m\u001b[0m\u001b[0;34m\u001b[0m\u001b[0m\n\u001b[0;32m----> 3\u001b[0;31m         \u001b[0mmatrix\u001b[0m \u001b[0;34m=\u001b[0m \u001b[0mrandomMatrix\u001b[0m\u001b[0;34m(\u001b[0m\u001b[0mmatrixROW\u001b[0m\u001b[0;34m,\u001b[0m\u001b[0melementRangeStart\u001b[0m\u001b[0;34m,\u001b[0m\u001b[0melementRangeEnd\u001b[0m\u001b[0;34m,\u001b[0m\u001b[0msig_digits\u001b[0m\u001b[0;34m)\u001b[0m\u001b[0;34m\u001b[0m\u001b[0;34m\u001b[0m\u001b[0m\n\u001b[0m\u001b[1;32m      4\u001b[0m         \u001b[0mCmatrix\u001b[0m \u001b[0;34m=\u001b[0m \u001b[0mC_Matrix\u001b[0m\u001b[0;34m(\u001b[0m\u001b[0mmatrixROW\u001b[0m\u001b[0;34m,\u001b[0m\u001b[0melementRangeStart\u001b[0m\u001b[0;34m,\u001b[0m\u001b[0melementRangeEnd\u001b[0m\u001b[0;34m,\u001b[0m\u001b[0msig_digits\u001b[0m\u001b[0;34m)\u001b[0m\u001b[0;34m\u001b[0m\u001b[0;34m\u001b[0m\u001b[0m\n\u001b[1;32m      5\u001b[0m         \u001b[0mprint\u001b[0m\u001b[0;34m(\u001b[0m\u001b[0;34m\"c: \"\u001b[0m\u001b[0;34m,\u001b[0m \u001b[0mCmatrix\u001b[0m\u001b[0;34m)\u001b[0m\u001b[0;34m\u001b[0m\u001b[0;34m\u001b[0m\u001b[0m\n",
      "\u001b[0;32m/var/folders/6t/bh0wgwws4rb8bkbdgnmsfxfr0000gn/T/ipykernel_50417/2005427981.py\u001b[0m in \u001b[0;36mrandomMatrix\u001b[0;34m(matrixROW, elementRangeStart, elementRangeEnd, sig_digits)\u001b[0m\n\u001b[1;32m      4\u001b[0m     \u001b[0;32mfor\u001b[0m \u001b[0mx\u001b[0m \u001b[0;32min\u001b[0m \u001b[0mrange\u001b[0m\u001b[0;34m(\u001b[0m\u001b[0mmatrixROW\u001b[0m\u001b[0;34m)\u001b[0m\u001b[0;34m:\u001b[0m\u001b[0;34m\u001b[0m\u001b[0;34m\u001b[0m\u001b[0m\n\u001b[1;32m      5\u001b[0m              \u001b[0;32mfor\u001b[0m \u001b[0my\u001b[0m \u001b[0;32min\u001b[0m \u001b[0mrange\u001b[0m\u001b[0;34m(\u001b[0m\u001b[0mmatrixROW\u001b[0m\u001b[0;34m)\u001b[0m\u001b[0;34m:\u001b[0m\u001b[0;34m\u001b[0m\u001b[0;34m\u001b[0m\u001b[0m\n\u001b[0;32m----> 6\u001b[0;31m                  \u001b[0mmatrix\u001b[0m\u001b[0;34m[\u001b[0m\u001b[0mx\u001b[0m\u001b[0;34m]\u001b[0m\u001b[0;34m[\u001b[0m\u001b[0my\u001b[0m\u001b[0;34m]\u001b[0m \u001b[0;34m=\u001b[0m \u001b[0mroundto_d_significant\u001b[0m\u001b[0;34m(\u001b[0m\u001b[0mcustomRandomNumber\u001b[0m\u001b[0;34m(\u001b[0m\u001b[0melementRangeStart\u001b[0m\u001b[0;34m,\u001b[0m\u001b[0melementRangeEnd\u001b[0m\u001b[0;34m,\u001b[0m\u001b[0;34m''\u001b[0m\u001b[0;34m)\u001b[0m\u001b[0;34m,\u001b[0m\u001b[0msig_digits\u001b[0m\u001b[0;34m)\u001b[0m\u001b[0;34m\u001b[0m\u001b[0;34m\u001b[0m\u001b[0m\n\u001b[0m\u001b[1;32m      7\u001b[0m \u001b[0;31m#     print(matrix)\u001b[0m\u001b[0;34m\u001b[0m\u001b[0;34m\u001b[0m\u001b[0m\n\u001b[1;32m      8\u001b[0m     \u001b[0;32mreturn\u001b[0m \u001b[0mmatrix\u001b[0m\u001b[0;34m\u001b[0m\u001b[0;34m\u001b[0m\u001b[0m\n",
      "\u001b[0;32m/var/folders/6t/bh0wgwws4rb8bkbdgnmsfxfr0000gn/T/ipykernel_50417/3643987826.py\u001b[0m in \u001b[0;36mroundto_d_significant\u001b[0;34m(value, sig_digits)\u001b[0m\n\u001b[1;32m      4\u001b[0m         \u001b[0;32mreturn\u001b[0m \u001b[0;36m0\u001b[0m\u001b[0;34m\u001b[0m\u001b[0;34m\u001b[0m\u001b[0m\n\u001b[1;32m      5\u001b[0m     \u001b[0;32melse\u001b[0m\u001b[0;34m:\u001b[0m\u001b[0;34m\u001b[0m\u001b[0;34m\u001b[0m\u001b[0m\n\u001b[0;32m----> 6\u001b[0;31m         \u001b[0;32mreturn\u001b[0m \u001b[0mround\u001b[0m\u001b[0;34m(\u001b[0m\u001b[0mvalue\u001b[0m\u001b[0;34m,\u001b[0m \u001b[0msig_digits\u001b[0m \u001b[0;34m-\u001b[0m \u001b[0mint\u001b[0m\u001b[0;34m(\u001b[0m\u001b[0mfloor\u001b[0m\u001b[0;34m(\u001b[0m\u001b[0mlog10\u001b[0m\u001b[0;34m(\u001b[0m\u001b[0mabs\u001b[0m\u001b[0;34m(\u001b[0m\u001b[0mvalue\u001b[0m\u001b[0;34m)\u001b[0m\u001b[0;34m)\u001b[0m\u001b[0;34m)\u001b[0m\u001b[0;34m)\u001b[0m \u001b[0;34m-\u001b[0m \u001b[0;36m1\u001b[0m\u001b[0;34m)\u001b[0m\u001b[0;34m\u001b[0m\u001b[0;34m\u001b[0m\u001b[0m\n\u001b[0m",
      "\u001b[0;31mNameError\u001b[0m: name 'log10' is not defined"
     ]
    }
   ],
   "source": [
    "gausianElimination(3,4,-100,100,5)"
   ]
  },
  {
   "cell_type": "code",
   "execution_count": null,
   "id": "f1294cae",
   "metadata": {},
   "outputs": [],
   "source": []
  },
  {
   "cell_type": "code",
   "execution_count": null,
   "id": "2f356e4f",
   "metadata": {},
   "outputs": [],
   "source": []
  },
  {
   "cell_type": "code",
   "execution_count": null,
   "id": "4ae96006",
   "metadata": {},
   "outputs": [],
   "source": []
  },
  {
   "cell_type": "code",
   "execution_count": null,
   "id": "16a4f4c6",
   "metadata": {},
   "outputs": [],
   "source": []
  },
  {
   "cell_type": "code",
   "execution_count": null,
   "id": "14eb53cc",
   "metadata": {},
   "outputs": [],
   "source": []
  }
 ],
 "metadata": {
  "kernelspec": {
   "display_name": "Python 3 (ipykernel)",
   "language": "python",
   "name": "python3"
  },
  "language_info": {
   "codemirror_mode": {
    "name": "ipython",
    "version": 3
   },
   "file_extension": ".py",
   "mimetype": "text/x-python",
   "name": "python",
   "nbconvert_exporter": "python",
   "pygments_lexer": "ipython3",
   "version": "3.9.7"
  }
 },
 "nbformat": 4,
 "nbformat_minor": 5
}
