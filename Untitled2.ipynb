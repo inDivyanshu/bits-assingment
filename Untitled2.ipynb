{
 "cells": [
  {
   "cell_type": "code",
   "execution_count": 1,
   "id": "61a3ab82",
   "metadata": {},
   "outputs": [
    {
     "name": "stdout",
     "output_type": "stream",
     "text": [
      "[[1.403647654569518, 2.3755111257251116, -11.860881410411338, -1.5368949009732589, -1.5524381121579331, -14.453913997474519, -2.765377762338037, -4.361706126524133], [-14.862241675166645, 13.596834341865055, 6.516636935617768, -17.805881325911244, -3.088928528919361, 17.52470272389104, 3.906673829555146, -13.881381732060394], [-6.523194433799894, 16.90585772968133, -4.700858614997166, 6.5716686313551165, 1.9565439819231365, -19.879864420101654, -3.0363708804747027, -5.627326178726101], [9.410534677119383, 8.649872342659037, -12.971101675580545, -9.281015529801873, -7.415745711074271, -10.101625318919684, 13.155025109993652, 17.309108568942335], [-1.4986277469074167, 0.5547422653481675, 15.92133609429822, -19.25442807725328, 15.402399545556158, 1.5624656993607644, -15.508866431948336, -14.86444532254739], [18.087615731083524, -2.662227960201612, 12.968122759016147, -3.9237432873514386, -18.933871642642206, 6.744877425868236, -18.181179422818264, 6.983124720266673], [-7.038798741522312, 18.890716672892168, 16.001886680132728, 1.357524875188151, 1.2962787233919784, -5.671482515812958, 19.213352459056715, 14.143816921602685], [-14.645708119825485, -4.94472359839877, 5.142295272752676, 12.248790386326462, -6.592776336559837, -8.468329804804466, -14.55322417131477, 17.94757374072578]]\n",
      "Not diagonally dominant!!\n",
      "Cannot be converted to diagonally dominant\n"
     ]
    }
   ],
   "source": [
    "import time\n",
    "import math\n",
    "import random\n",
    "import numpy as np\n",
    "import pandas as pd\n",
    "from tqdm import tqdm\n",
    "from copy import copy, deepcopy\n",
    "from pprint import pprint\n",
    "from functools import partial\n",
    "from numpy.linalg import norm\n",
    "from matplotlib import pyplot as plt\n",
    "def Check_diff(A: list):\n",
    "    dd = True\n",
    "    for i, row in enumerate(A):\n",
    "        de = abs(A[i][i])\n",
    "        non_des = [abs(x) for j, x in enumerate(row) if i != j]\n",
    "        if not (de > sum(non_des)):\n",
    "            dd = False\n",
    "            break\n",
    "    if dd:\n",
    "        print(\"Diagonally dominant\")\n",
    "        \n",
    "    else:\n",
    "        print(\"Not diagonally dominant!!\")\n",
    "        nond_indices = []\n",
    "        nond_vectors = []\n",
    "        for i in range(len(A)):\n",
    "            row = A[i]\n",
    "            de = abs(A[i][i])\n",
    "            non_des = [abs(x) for j, x in enumerate(row) if i != j]\n",
    "            if not (de > sum(non_des)):\n",
    "                nond_indices.append(i)\n",
    "                nond_vectors.append((i, row))\n",
    "        \n",
    "        for index, each_row in nond_vectors:\n",
    "            for each_index in nond_indices:\n",
    "                if abs(each_row[each_index]) > sum([abs(x) for j, x in enumerate(each_row) if j != each_index]):\n",
    "                    nond_indices.remove(each_index)\n",
    "                    break\n",
    "                    \n",
    "        if len(nond_indices) == 0:\n",
    "            print(f\"Can be converted to diagonally dominant!!\")\n",
    "        else:\n",
    "            print(\"Cannot be converted to diagonally dominant\")\n",
    "n = 8\n",
    "A = [[random.uniform(-20, 20) for _ in range(n)] for _ in range(n)]\n",
    "print(A)\n",
    "Check_diff(A)\n"
   ]
  },
  {
   "cell_type": "code",
   "execution_count": null,
   "id": "7ef94891",
   "metadata": {},
   "outputs": [],
   "source": []
  }
 ],
 "metadata": {
  "kernelspec": {
   "display_name": "Python 3 (ipykernel)",
   "language": "python",
   "name": "python3"
  },
  "language_info": {
   "codemirror_mode": {
    "name": "ipython",
    "version": 3
   },
   "file_extension": ".py",
   "mimetype": "text/x-python",
   "name": "python",
   "nbconvert_exporter": "python",
   "pygments_lexer": "ipython3",
   "version": "3.9.7"
  }
 },
 "nbformat": 4,
 "nbformat_minor": 5
}
