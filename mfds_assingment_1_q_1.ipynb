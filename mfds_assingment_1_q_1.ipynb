{
 "cells": [
  {
   "cell_type": "code",
   "execution_count": 484,
   "id": "9c03a518",
   "metadata": {},
   "outputs": [],
   "source": [
    "#all the imports here\n",
    "from math import floor,log\n",
    "import random\n",
    "from copy import deepcopy"
   ]
  },
  {
   "cell_type": "code",
   "execution_count": 485,
   "id": "f60055ba",
   "metadata": {},
   "outputs": [],
   "source": [
    "#variables defined here\n",
    "add_count=0;\n",
    "multiple_count=0;\n",
    "division_count=0;"
   ]
  },
  {
   "cell_type": "code",
   "execution_count": 486,
   "id": "2f7ca506",
   "metadata": {},
   "outputs": [],
   "source": [
    "# random number generator function\n",
    "def customRandomNumber(a,b,t):\n",
    "    if(t==\"rank\"):\n",
    "        return random.randrange(a,b)\n",
    "    if(a==0 and b==0):\n",
    "        return random.random()\n",
    "    else:\n",
    "                return random.randrange(a,b)\n",
    "        #return random.uniform(a,b)\n",
    "\n"
   ]
  },
  {
   "cell_type": "code",
   "execution_count": 487,
   "id": "a210aab7",
   "metadata": {},
   "outputs": [],
   "source": [
    "def roundto_d_significant(value, sig_digits):\n",
    "    if value == 0:\n",
    "        return 0\n",
    "    else:\n",
    "        return round(value, sig_digits - int(floor(log10(abs(value)))) - 1)"
   ]
  },
  {
   "cell_type": "code",
   "execution_count": 488,
   "id": "9b2f840d",
   "metadata": {},
   "outputs": [],
   "source": [
    "# generate random matrix\n",
    "def randomMatrix(matrixROW,elementRangeStart,elementRangeEnd,sig_digits):\n",
    "    matrix=[[ 0 for x in range(matrixROW)] for y in range(matrixROW)]\n",
    "    for x in range(matrixROW): \n",
    "             for y in range(matrixROW): \n",
    "                 matrix[x][y] = roundto_d_significant(customRandomNumber(elementRangeStart,elementRangeEnd,''),sig_digits)\n",
    "    return matrix\n",
    "\n"
   ]
  },
  {
   "cell_type": "code",
   "execution_count": 489,
   "id": "527802f5",
   "metadata": {},
   "outputs": [],
   "source": [
    "#Ax=C\n",
    "def C_Matrix(matrixROW,elementRangeStart,elementRangeEnd,sig_digits):\n",
    "    matrix=[[0 for x in range(1)]  for y in range(matrixROW) ]\n",
    "    for y in range(matrixROW): \n",
    "        matrix[y][0] = roundto_d_significant(customRandomNumber(elementRangeStart,elementRangeEnd,''),sig_digits)\n",
    "    return matrix\n",
    "  "
   ]
  },
  {
   "cell_type": "code",
   "execution_count": 490,
   "id": "52ec9062",
   "metadata": {
    "scrolled": true
   },
   "outputs": [],
   "source": [
    "# without pivioitng\n",
    "def forwardElimination(matrix,C_matrix,sig_digits,matrixROW):\n",
    "    # Create augmented matrix\n",
    "    for i in range(len(matrix)):\n",
    "        matrix[i].append(C_matrix[i][0])\n",
    "    print(\"Augumented : \",matrix)\n",
    "    \n",
    "    # start elimination forward style\n",
    "    for totalLoops in range(matrixROW-1):  # for pivot element\n",
    "        for row in range(len(matrix)):\n",
    "            if(matrix[row][totalLoops]==0):\n",
    "                pass\n",
    "            else:\n",
    "                newCol=matrix[row][totalLoops]\n",
    "                for coloumn in range(len(matrix[row])):\n",
    "                    if(row<=totalLoops or matrix[totalLoops][totalLoops] ==0):\n",
    "                        pass\n",
    "                    else:\n",
    "                        matrix[row][coloumn]=roundto_d_significant((matrix[row][coloumn]-(newCol * (matrix[totalLoops][coloumn]/matrix[totalLoops][totalLoops]))) ,sig_digits)\n",
    "\n",
    "    \n",
    "    return matrix #Auguemented resultant from forward matrix\n",
    "    "
   ]
  },
  {
   "cell_type": "code",
   "execution_count": 491,
   "id": "afe61e8f",
   "metadata": {},
   "outputs": [],
   "source": [
    "# partial pivoiting\n",
    "\n",
    "# without pivioitng\n",
    "def forwardEliminationPivoting(matrix,C_matrix,sig_digits,matrixROW):\n",
    "    # Create augmented matrix\n",
    "    for i in range(len(matrix)):\n",
    "        matrix[i].append(C_matrix[i][0])\n",
    "    print(\"Augumented : \",matrix)\n",
    "    \n",
    "    # start elimination forward style\n",
    "    for totalLoops in range(matrixROW-1):  # for pivot element\n",
    "        currentMax=matrix[totalLoops][totalLoops]\n",
    "        j=totalLoops;\n",
    "        for row in range(len(matrix)):\n",
    "            if(abs(currentMax)<abs(matrix[row][totalLoops]) and row>totalLoops):\n",
    "                currentMax=matrix[row][totalLoops]\n",
    "                j=row\n",
    "        if(j!=totalLoops):\n",
    "            temp=matrix[totalLoops]\n",
    "            matrix[totalLoops]=matrix[j]\n",
    "            matrix[j]=temp\n",
    "        for row in range(len(matrix)):\n",
    "            if(matrix[row][totalLoops]==0):\n",
    "                pass\n",
    "            else:\n",
    "                newCol=matrix[row][totalLoops]\n",
    "                for coloumn in range(len(matrix[row])):\n",
    "                    if(row<=totalLoops or matrix[totalLoops][totalLoops] ==0):\n",
    "                        pass\n",
    "                    else:\n",
    "                        matrix[row][coloumn]=roundto_d_significant((matrix[row][coloumn]-(newCol * (matrix[totalLoops][coloumn]/matrix[totalLoops][totalLoops]))) ,sig_digits)\n",
    "\n",
    "    \n",
    "    return matrix #Auguemented resultant from forward matrix\n",
    "    "
   ]
  },
  {
   "cell_type": "code",
   "execution_count": 492,
   "id": "7c54af91",
   "metadata": {},
   "outputs": [],
   "source": [
    "def backWardElimination(matrix,C_matrix,sig_digits,matrixROW):\n",
    "    b=[[0 for x in range(1)]  for y in range(matrixROW) ];\n",
    "    length_of_column=len(matrix[0])\n",
    "    for x in reversed(range(matrixROW)):\n",
    "        a=0;\n",
    "        for j in reversed(range(length_of_column)):\n",
    "            if(length_of_column-1==j):\n",
    "                a=roundto_d_significant(matrix[x][j],sig_digits)\n",
    "            elif(x==j):\n",
    "                a=roundto_d_significant(a/matrix[x][j],sig_digits)\n",
    "            elif(j<matrixROW and j>=x):\n",
    "                 a = roundto_d_significant(a - matrix[x][j]*b[j][0],sig_digits) \n",
    "        b[x][0]=a\n",
    "\n",
    "    return b\n",
    "    \n",
    "                \n",
    "            "
   ]
  },
  {
   "cell_type": "code",
   "execution_count": 493,
   "id": "97d08e47",
   "metadata": {},
   "outputs": [],
   "source": [
    "def  gausianElimination(rowRangeStart,rowRangeEnd,elementRangeStart,elementRangeEnd,sig_digits):\n",
    "        matrixROW =customRandomNumber(rowRangeStart,rowRangeEnd,'rank')\n",
    "        matrix = randomMatrix(matrixROW,elementRangeStart,elementRangeEnd,sig_digits)\n",
    "        Cmatrix = C_Matrix(matrixROW,elementRangeStart,elementRangeEnd,sig_digits)\n",
    "        print(\"c: \", Cmatrix)\n",
    "        print(\"A:\", matrix)\n",
    "        new_matrix=deepcopy(matrix)\n",
    "        withoutPivotMatrix = forwardElimination(matrix,Cmatrix,sig_digits,matrixROW);\n",
    "        withPivotMatrix = forwardEliminationPivoting(new_matrix,Cmatrix,sig_digits,matrixROW);\n",
    "        solutionmatrixwithpivot= backWardElimination(withPivotMatrix,Cmatrix,sig_digits,matrixROW)\n",
    "        solutionmatrixwithoutpivot=backWardElimination(withoutPivotMatrix,Cmatrix,sig_digits,matrixROW)\n",
    "        print(\"vector matrix with pivot\",solutionmatrixwithpivot)\n",
    "        print(\"vector matrix with pivot\",solutionmatrixwithoutpivot)\n"
   ]
  },
  {
   "cell_type": "code",
   "execution_count": 494,
   "id": "57224193",
   "metadata": {},
   "outputs": [
    {
     "name": "stdout",
     "output_type": "stream",
     "text": [
      "c:  [[-58], [94], [44]]\n",
      "A: [[54, -2, -28], [-85, 48, 58], [34, -38, -5]]\n",
      "Augumented :  [[54, -2, -28, -58], [-85, 48, 58, 94], [34, -38, -5, 44]]\n",
      "Augumented :  [[54, -2, -28, -58, -58], [0, 44.852, 13.926, 2.7037, 94], [0, 0, 24.038, 82.734, 44]]\n",
      "vector matrix with pivot [[-0.068404], [1.5275], [1.8304]]\n",
      "vector matrix with pivot [[-0.068404], [1.5275], [1.8304]]\n"
     ]
    }
   ],
   "source": [
    "gausianElimination(3,4,-100,100,5)"
   ]
  },
  {
   "cell_type": "code",
   "execution_count": null,
   "id": "586eab5c",
   "metadata": {},
   "outputs": [],
   "source": []
  },
  {
   "cell_type": "code",
   "execution_count": null,
   "id": "a202883a",
   "metadata": {},
   "outputs": [],
   "source": []
  },
  {
   "cell_type": "code",
   "execution_count": null,
   "id": "08dfc0c1",
   "metadata": {},
   "outputs": [],
   "source": []
  },
  {
   "cell_type": "code",
   "execution_count": null,
   "id": "af65d6f3",
   "metadata": {},
   "outputs": [],
   "source": []
  }
 ],
 "metadata": {
  "kernelspec": {
   "display_name": "Python 3 (ipykernel)",
   "language": "python",
   "name": "python3"
  },
  "language_info": {
   "codemirror_mode": {
    "name": "ipython",
    "version": 3
   },
   "file_extension": ".py",
   "mimetype": "text/x-python",
   "name": "python",
   "nbconvert_exporter": "python",
   "pygments_lexer": "ipython3",
   "version": "3.9.7"
  }
 },
 "nbformat": 4,
 "nbformat_minor": 5
}
